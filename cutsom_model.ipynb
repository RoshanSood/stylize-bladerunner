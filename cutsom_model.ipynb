{
 "cells": [
  {
   "cell_type": "markdown",
   "metadata": {},
   "source": [
    "# Van Gogh SDXL\n",
    "\n",
    "This model is trained on a collection of the Cyberpunk style. It is best at generating cityscapes with neon lights.\n",
    "\n",
    "The code below is used to train and test the model."
   ]
  },
  {
   "cell_type": "code",
   "execution_count": null,
   "metadata": {},
   "outputs": [],
   "source": [
    "import replicate\n",
    "import os\n",
    "\n",
    "REPLICATE_API_TOKEN  = os.getenv('REPLICATE_API_TOKEN')"
   ]
  },
  {
   "cell_type": "code",
   "execution_count": null,
   "metadata": {},
   "outputs": [],
   "source": [
    "training = replicate.trainings.create(\n",
    "    version=\"stability-ai/sdxl:d830ba5dabf8090ec0db6c10fc862c6eb1c929e1a194a5411852d25fd954ac82\",\n",
    "    input={\n",
    "        \"input_images\": \"link to training images stored as .zip file on S3\",\n",
    "        \"lora_lr\": 4e-4,\n",
    "        \"caption_prefix\": \"In the style of TOK,\",\n",
    "    },\n",
    "    destination=\"schmitzandrew/stylize-van-gogh\"\n",
    ")\n",
    "print(training)"
   ]
  },
  {
   "cell_type": "code",
   "execution_count": null,
   "metadata": {},
   "outputs": [],
   "source": [
    "training.reload()\n",
    "print(training.status)\n",
    "print(\"\\n\".join(training.logs.split(\"\\n\")[-10:]))"
   ]
  },
  {
   "attachments": {},
   "cell_type": "markdown",
   "metadata": {},
   "source": [
    "## Model Testing\n",
    "\n",
    "Runs a series of tests to compare model performance across training set and parameters"
   ]
  },
  {
   "cell_type": "code",
   "execution_count": null,
   "metadata": {},
   "outputs": [],
   "source": [
    "from IPython.display import Image, display\n",
    "\n",
    "prompts = [\n",
    "    \"a colorful vase of flowers\",\n",
    "    \"a vase of red flowers\",\n",
    "    \"the beach\",\n",
    "    \"a sunset over the sea\",\n",
    "    \"a city street at night\",\n",
    "    \"a pumpkin patch\",\n",
    "]\n",
    "\n",
    "def display_img(url):\n",
    "    return display(Image(url=url, width=400))\n",
    "\n",
    "for prompt in prompts:\n",
    "    output = replicate.run(\n",
    "        \"schmitzandrew/stylize-van-gogh:8087df82c657687e0cfb2b8c1b39b4bce7fa4fcf14f4564e3421db00c8133bd2\",\n",
    "        input={\n",
    "            \"prompt\": prompt,\n",
    "        }\n",
    "    )\n",
    "    url = output[0]\n",
    "    print(f\"Prompt: {prompt}, URL: {output[0]}\")\n",
    "    display_img(url)"
   ]
  }
 ],
 "metadata": {
  "kernelspec": {
   "display_name": "gen-ai",
   "language": "python",
   "name": "python3"
  },
  "language_info": {
   "codemirror_mode": {
    "name": "ipython",
    "version": 3
   },
   "file_extension": ".py",
   "mimetype": "text/x-python",
   "name": "python",
   "nbconvert_exporter": "python",
   "pygments_lexer": "ipython3",
   "version": "3.10.12"
  },
  "orig_nbformat": 4
 },
 "nbformat": 4,
 "nbformat_minor": 2
}
